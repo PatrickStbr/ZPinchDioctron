{
 "cells": [
  {
   "cell_type": "code",
   "execution_count": 9,
   "metadata": {},
   "outputs": [],
   "source": [
    "import numpy as np\n",
    "import scipy as sp\n",
    "import matplotlib.pyplot as plt\n",
    "from numba import njit, prange\n",
    "from scipy.sparse import csc_matrix, linalg as sla"
   ]
  },
  {
   "cell_type": "code",
   "execution_count": 58,
   "metadata": {},
   "outputs": [],
   "source": [
    "s0 = 3\n",
    "h0 = 1\n",
    "w = 1\n",
    "R1 = 1\n",
    "R2 = 5\n",
    "\n",
    "s = np.linspace(R1, R2, 101)\n",
    "ds = (np.max(s)-np.min(s))/(len(s)-1)\n",
    "h = h0*np.exp(-(s-s0)**2/w)\n",
    "dh_ds = -h0*((2*(s-s0))/w)*np.exp(-(s-s0)**2/w)\n",
    "sigma_1 = 1/((s+1j*h)*(1+1j*dh_ds))\n",
    "sigma_2 = (s+1j*h)/(1+1j*dh_ds)\n",
    "phi = np.zeros(len(s))\n"
   ]
  },
  {
   "cell_type": "code",
   "execution_count": 67,
   "metadata": {},
   "outputs": [
    {
     "name": "stdout",
     "output_type": "stream",
     "text": [
      "0.04 0.040000000000000036\n"
     ]
    }
   ],
   "source": [
    "print(ds, s[1]-s[0])"
   ]
  },
  {
   "cell_type": "code",
   "execution_count": 11,
   "metadata": {},
   "outputs": [
    {
     "data": {
      "image/png": "[encoded data removed]",
      "text/plain": [
       "<matplotlib.figure.Figure at 0x7fa1b5e29208>"
      ]
     },
     "metadata": {},
     "output_type": "display_data"
    },
    {
     "data": {
      "image/png": "[encoded data removed]",
      "text/plain": [
       "<matplotlib.figure.Figure at 0x7fa1b570fe80>"
      ]
     },
     "metadata": {},
     "output_type": "display_data"
    }
   ],
   "source": [
    "plt.plot(s, np.imag(sigma_1))\n",
    "plt.plot(s, np.real(sigma_1))\n",
    "plt.show()\n",
    "plt.plot(s, dh_ds)\n",
    "plt.show()"
   ]
  },
  {
   "cell_type": "code",
   "execution_count": 51,
   "metadata": {},
   "outputs": [],
   "source": [
    "@njit\n",
    "def M(s, ds, sigma_1, sigma_2):\n",
    "    col = np.zeros(3*len(s)-4)\n",
    "    row = np.zeros(3*len(s)-4)\n",
    "    data = np.zeros(3*len(s)-4)\n",
    "    data[0] = 2#1\n",
    "    data[1] = 1#(s[1]-ds/2)/(2*ds**2*s[1])\n",
    "    row[1] = 1\n",
    "    col[2:4] = 1\n",
    "    row[2] = 1\n",
    "    row[3] = 2\n",
    "    data[2] = 2#2/ds**2\n",
    "    data[3] = 1#(s[2]-ds/2)/(2*ds**2*s[2])\n",
    "    for i in prange(2, len(s)-2):\n",
    "        col[3*i-2:3*i+1] = i\n",
    "        row[3*i-2] = i-1\n",
    "        row[3*i-1] = i\n",
    "        row[3*i] = i+1\n",
    "        data[3*i-2] = 3#(s[i-1]+ds/2)/(2*ds**2*s[i-1])\n",
    "        data[3*i-1] = 2#2/ds**2\n",
    "        data[3*i] = 1#(s[i+1]-ds/2)/(2*ds**2*s[i+1])\n",
    "    col[-4:-2] = len(s)-2\n",
    "    row[-4] = len(s)-3\n",
    "    row[-3] = len(s)-2\n",
    "    data[-4] = 3#(s[-3]+ds/2)/(2*ds**2*s[-3])\n",
    "    data[-3] = 2#2/ds**2\n",
    "    col[-2:] = len(s)-1\n",
    "    row[-2] = len(s)-2\n",
    "    row[-1] = len(s)-1\n",
    "    data[-2] = 3#(s[-2]+ds/2)/(2*ds**2*s[-2])\n",
    "    data[-1] = 2#1\n",
    "    return data, col, row"
   ]
  },
  {
   "cell_type": "code",
   "execution_count": 52,
   "metadata": {},
   "outputs": [
    {
     "data": {
      "text/plain": [
       "array([[2., 0., 0., 0., 0.],\n",
       "       [1., 2., 3., 0., 0.],\n",
       "       [0., 1., 2., 3., 0.],\n",
       "       [0., 0., 1., 2., 3.],\n",
       "       [0., 0., 0., 0., 2.]])"
      ]
     },
     "execution_count": 52,
     "metadata": {},
     "output_type": "execute_result"
    }
   ],
   "source": [
    "data, col, row = M(s, ds, sigma_1, sigma_2)\n",
    "csc_matrix((data, (row, col)), shape=(len(s), len(s))).toarray()\n",
    "print(col)\n",
    "print(row)"
   ]
  },
  {
   "cell_type": "code",
   "execution_count": 59,
   "metadata": {},
   "outputs": [],
   "source": [
    "@njit\n",
    "def M(s, ds, sigma_1, sigma_2):\n",
    "    col = np.zeros(3*len(s)-4)\n",
    "    row = np.zeros(3*len(s)-4)\n",
    "    data = np.zeros(3*len(s)-4)\n",
    "    data[0] = 1\n",
    "    data[1] = (s[1]-ds/2)/(2*ds**2*s[1])\n",
    "    row[1] = 1\n",
    "    col[2:4] = 1\n",
    "    row[2] = 1\n",
    "    row[3] = 2\n",
    "    data[2] = 2/ds**2\n",
    "    data[3] = (s[2]-ds/2)/(2*ds**2*s[2])\n",
    "    for i in prange(2, len(s)-2):\n",
    "        col[3*i-2:3*i+1] = i\n",
    "        row[3*i-2] = i-1\n",
    "        row[3*i-1] = i\n",
    "        row[3*i] = i+1\n",
    "        data[3*i-2] = (s[i-1]+ds/2)/(2*ds**2*s[i-1])\n",
    "        data[3*i-1] = 2/ds**2\n",
    "        data[3*i] = (s[i+1]-ds/2)/(2*ds**2*s[i+1])\n",
    "    col[-4:-2] = len(s)-2\n",
    "    row[-4] = len(s)-3\n",
    "    row[-3] = len(s)-2\n",
    "    data[-4] = (s[-3]+ds/2)/(2*ds**2*s[-3])\n",
    "    data[-3] = 2/ds**2\n",
    "    col[-2:] = len(s)-1\n",
    "    row[-2] = len(s)-2\n",
    "    row[-1] = len(s)-1\n",
    "    data[-2] = (s[-2]+ds/2)/(2*ds**2*s[-2])\n",
    "    data[-1] = 1\n",
    "    return data, col, row"
   ]
  },
  {
   "cell_type": "code",
   "execution_count": 62,
   "metadata": {},
   "outputs": [],
   "source": [
    "data, col, row = M(s, ds, sigma_1, sigma_2)\n",
    "A = csc_matrix((data, (col, row)), shape=(len(s), len(s)))\n",
    "del data, col, row \n",
    "lu = sla.splu(A)"
   ]
  },
  {
   "cell_type": "code",
   "execution_count": 68,
   "metadata": {},
   "outputs": [
    {
     "data": {
      "image/png": "[encoded data removed]",
      "text/plain": [
       "<matplotlib.figure.Figure at 0x7fa1b2e617f0>"
      ]
     },
     "metadata": {},
     "output_type": "display_data"
    },
    {
     "data": {
      "image/png": "[encoded data removed]",
      "text/plain": [
       "<matplotlib.figure.Figure at 0x7fa1b30aef28>"
      ]
     },
     "metadata": {},
     "output_type": "display_data"
    },
    {
     "name": "stdout",
     "output_type": "stream",
     "text": [
      "1.0 1.0\n",
      "1250.0 306.71296296296293\n"
     ]
    }
   ],
   "source": [
    "A_array = A.toarray()\n",
    "plt.imshow(A_array[-10:, -10:])\n",
    "plt.show()\n",
    "\n",
    "plt.imshow(A_array[:10, :10])\n",
    "plt.show()\n",
    "print(A_array[0, 0], A_array[-1, -1])\n",
    "print(A_array[1, 1], A_array[1, 2])"
   ]
  },
  {
   "cell_type": "code",
   "execution_count": 56,
   "metadata": {},
   "outputs": [],
   "source": [
    "f = np.zeros(len(s))\n",
    "f[0] = 10\n",
    "f[-1] = -20\n",
    "phi = lu.solve(f)"
   ]
  },
  {
   "cell_type": "code",
   "execution_count": 57,
   "metadata": {},
   "outputs": [
    {
     "data": {
      "image/png": "[encoded data removed]",
      "text/plain": [
       "<matplotlib.figure.Figure at 0x7fa1b2e38128>"
      ]
     },
     "metadata": {},
     "output_type": "display_data"
    }
   ],
   "source": [
    "plt.plot(s, phi)\n",
    "plt.show()"
   ]
  },
  {
   "cell_type": "code",
   "execution_count": null,
   "metadata": {},
   "outputs": [],
   "source": []
  }
 ],
 "metadata": {
  "kernelspec": {
   "display_name": "Python 3",
   "language": "python",
   "name": "python3"
  },
  "language_info": {
   "codemirror_mode": {
    "name": "ipython",
    "version": 3
   },
   "file_extension": ".py",
   "mimetype": "text/x-python",
   "name": "python",
   "nbconvert_exporter": "python",
   "pygments_lexer": "ipython3",
   "version": "3.6.9"
  },
  "orig_nbformat": 4,
  "vscode": {
   "interpreter": {
    "hash": "31f2aee4e71d21fbe5cf8b01ff0e069b9275f58929596ceb00d14d90e3e16cd6"
   }
  }
 },
 "nbformat": 4,
 "nbformat_minor": 2
}
